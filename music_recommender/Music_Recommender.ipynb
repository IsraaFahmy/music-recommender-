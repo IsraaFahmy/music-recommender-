{
 "cells": [
  {
   "cell_type": "code",
   "execution_count": 93,
   "metadata": {},
   "outputs": [],
   "source": [
    "# importing \n",
    "import pandas as pd \n",
    "from sklearn.tree import DecisionTreeClassifier\n",
    "from sklearn.model_selection import train_test_split\n",
    "from sklearn.metrics import accuracy_score\n",
    "import joblib \n",
    "from sklearn import tree \n",
    "\n",
    "\n",
    "music_data = pd.read_csv('music.csv')\n",
    "X = music_data.drop(columns=['genre'])\n",
    "Y = music_data['genre']\n",
    "x_train, x_test, y_train, y_test = train_test_split(X,Y, test_size=0.1)\n",
    "\n",
    "model = DecisionTreeClassifier()\n",
    "model.fit(x_train,y_train)\n",
    "predictions = model.predict(x_test)\n",
    "score = accuracy_score(y_test, predictions)\n",
    "\n",
    "###persist a load model \n",
    "# trained file used directly to get predictons \n",
    "joblib.dump(model, 'music_recommender.joblib'  )\n",
    "# after dumping your file u can use it as follow : delet all lines above and add the following  \n",
    "model = joblib.load('music_recommender.joblib') # then test is as follow \n",
    "predictions = model.predict(x_test)\n",
    "score = accuracy_score(y_test, predictions)\n",
    "\n",
    "###visualize trees\n",
    "\n",
    "tree.export_graphviz(model, out_file ='music_recommender.dot', \n",
    "                     feature_names=['age', 'gender'], \n",
    "                     class_names=sorted(Y.unique()),\n",
    "                     label= 'all',\n",
    "                     rounded=True,\n",
    "                     filled=True)\n",
    "#open the .dot file on vscode "
   ]
  },
  {
   "cell_type": "code",
   "execution_count": null,
   "metadata": {},
   "outputs": [],
   "source": []
  },
  {
   "cell_type": "code",
   "execution_count": null,
   "metadata": {},
   "outputs": [],
   "source": []
  }
 ],
 "metadata": {
  "kernelspec": {
   "display_name": "Python 3",
   "language": "python",
   "name": "python3"
  },
  "language_info": {
   "codemirror_mode": {
    "name": "ipython",
    "version": 3
   },
   "file_extension": ".py",
   "mimetype": "text/x-python",
   "name": "python",
   "nbconvert_exporter": "python",
   "pygments_lexer": "ipython3",
   "version": "3.8.3"
  }
 },
 "nbformat": 4,
 "nbformat_minor": 4
}
